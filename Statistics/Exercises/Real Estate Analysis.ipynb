{
 "cells": [
  {
   "cell_type": "code",
   "execution_count": 32,
   "metadata": {},
   "outputs": [],
   "source": [
    "import pandas as pd\n",
    "import matplotlib.pyplot\n",
    "import numpy as np"
   ]
  },
  {
   "cell_type": "code",
   "execution_count": 2,
   "metadata": {},
   "outputs": [],
   "source": [
    "import seaborn as sns"
   ]
  },
  {
   "cell_type": "code",
   "execution_count": 3,
   "metadata": {},
   "outputs": [],
   "source": [
    "%matplotlib inline"
   ]
  },
  {
   "cell_type": "code",
   "execution_count": 10,
   "metadata": {},
   "outputs": [],
   "source": [
    "df = pd.read_excel(\"2.13. Practical-example.Descriptive-statistics-exercise.xlsx\", header = 4, usecols = \"B:AA\")"
   ]
  },
  {
   "cell_type": "code",
   "execution_count": 12,
   "metadata": {},
   "outputs": [
    {
     "name": "stdout",
     "output_type": "stream",
     "text": [
      "<class 'pandas.core.frame.DataFrame'>\n",
      "RangeIndex: 267 entries, 0 to 266\n",
      "Data columns (total 26 columns):\n",
      "ID                         267 non-null int64\n",
      "Building                   267 non-null int64\n",
      "Year of sale               195 non-null float64\n",
      "Month of sale              195 non-null float64\n",
      "Type of property           267 non-null object\n",
      "Property #                 267 non-null int64\n",
      "Area (ft.)                 267 non-null float64\n",
      "Price                      267 non-null float64\n",
      "Status                     195 non-null object\n",
      "Unnamed: 10                0 non-null float64\n",
      "Customer ID                195 non-null object\n",
      "Entity                     195 non-null object\n",
      "Name                       195 non-null object\n",
      "Surname                    195 non-null object\n",
      "Age at time of purchase    179 non-null object\n",
      "Interval                   178 non-null object\n",
      "Y                          178 non-null float64\n",
      "M                          178 non-null float64\n",
      "D                          178 non-null float64\n",
      "Gender                     178 non-null object\n",
      "Country                    195 non-null object\n",
      "State                      181 non-null object\n",
      "Purpose                    195 non-null object\n",
      "Deal satisfaction          195 non-null float64\n",
      "Mortgage                   195 non-null object\n",
      "Source                     195 non-null object\n",
      "dtypes: float64(9), int64(3), object(14)\n",
      "memory usage: 54.4+ KB\n"
     ]
    }
   ],
   "source": [
    "df.info()"
   ]
  },
  {
   "cell_type": "code",
   "execution_count": 17,
   "metadata": {},
   "outputs": [
    {
     "data": {
      "text/html": [
       "<div>\n",
       "<style scoped>\n",
       "    .dataframe tbody tr th:only-of-type {\n",
       "        vertical-align: middle;\n",
       "    }\n",
       "\n",
       "    .dataframe tbody tr th {\n",
       "        vertical-align: top;\n",
       "    }\n",
       "\n",
       "    .dataframe thead th {\n",
       "        text-align: right;\n",
       "    }\n",
       "</style>\n",
       "<table border=\"1\" class=\"dataframe\">\n",
       "  <thead>\n",
       "    <tr style=\"text-align: right;\">\n",
       "      <th></th>\n",
       "      <th>ID</th>\n",
       "      <th>Building</th>\n",
       "      <th>Year of sale</th>\n",
       "      <th>Month of sale</th>\n",
       "      <th>Property #</th>\n",
       "      <th>Area (ft.)</th>\n",
       "      <th>Price</th>\n",
       "      <th>Unnamed: 10</th>\n",
       "      <th>Y</th>\n",
       "      <th>M</th>\n",
       "      <th>D</th>\n",
       "      <th>Deal satisfaction</th>\n",
       "    </tr>\n",
       "  </thead>\n",
       "  <tbody>\n",
       "    <tr>\n",
       "      <td>count</td>\n",
       "      <td>267.000000</td>\n",
       "      <td>267.000000</td>\n",
       "      <td>195.000000</td>\n",
       "      <td>195.000000</td>\n",
       "      <td>267.000000</td>\n",
       "      <td>267.000000</td>\n",
       "      <td>267.000000</td>\n",
       "      <td>0.0</td>\n",
       "      <td>178.000000</td>\n",
       "      <td>178.000000</td>\n",
       "      <td>178.000000</td>\n",
       "      <td>195.000000</td>\n",
       "    </tr>\n",
       "    <tr>\n",
       "      <td>mean</td>\n",
       "      <td>2975.142322</td>\n",
       "      <td>2.947566</td>\n",
       "      <td>2006.333333</td>\n",
       "      <td>7.271795</td>\n",
       "      <td>27.580524</td>\n",
       "      <td>936.221113</td>\n",
       "      <td>281171.901501</td>\n",
       "      <td>NaN</td>\n",
       "      <td>1960.325843</td>\n",
       "      <td>6.752809</td>\n",
       "      <td>15.449438</td>\n",
       "      <td>3.605128</td>\n",
       "    </tr>\n",
       "    <tr>\n",
       "      <td>std</td>\n",
       "      <td>1392.197474</td>\n",
       "      <td>1.391794</td>\n",
       "      <td>1.072941</td>\n",
       "      <td>3.378674</td>\n",
       "      <td>15.361437</td>\n",
       "      <td>284.895016</td>\n",
       "      <td>89119.120849</td>\n",
       "      <td>NaN</td>\n",
       "      <td>12.835575</td>\n",
       "      <td>3.450312</td>\n",
       "      <td>8.457285</td>\n",
       "      <td>1.363355</td>\n",
       "    </tr>\n",
       "    <tr>\n",
       "      <td>min</td>\n",
       "      <td>1002.000000</td>\n",
       "      <td>1.000000</td>\n",
       "      <td>2004.000000</td>\n",
       "      <td>1.000000</td>\n",
       "      <td>1.000000</td>\n",
       "      <td>410.709200</td>\n",
       "      <td>117564.071600</td>\n",
       "      <td>NaN</td>\n",
       "      <td>1931.000000</td>\n",
       "      <td>1.000000</td>\n",
       "      <td>1.000000</td>\n",
       "      <td>1.000000</td>\n",
       "    </tr>\n",
       "    <tr>\n",
       "      <td>25%</td>\n",
       "      <td>2015.500000</td>\n",
       "      <td>2.000000</td>\n",
       "      <td>2006.000000</td>\n",
       "      <td>4.000000</td>\n",
       "      <td>14.500000</td>\n",
       "      <td>756.212800</td>\n",
       "      <td>217553.056400</td>\n",
       "      <td>NaN</td>\n",
       "      <td>1950.250000</td>\n",
       "      <td>4.000000</td>\n",
       "      <td>8.000000</td>\n",
       "      <td>3.000000</td>\n",
       "    </tr>\n",
       "    <tr>\n",
       "      <td>50%</td>\n",
       "      <td>3024.000000</td>\n",
       "      <td>3.000000</td>\n",
       "      <td>2007.000000</td>\n",
       "      <td>8.000000</td>\n",
       "      <td>28.000000</td>\n",
       "      <td>798.284400</td>\n",
       "      <td>249075.656800</td>\n",
       "      <td>NaN</td>\n",
       "      <td>1962.000000</td>\n",
       "      <td>6.000000</td>\n",
       "      <td>15.000000</td>\n",
       "      <td>4.000000</td>\n",
       "    </tr>\n",
       "    <tr>\n",
       "      <td>75%</td>\n",
       "      <td>4031.500000</td>\n",
       "      <td>4.000000</td>\n",
       "      <td>2007.000000</td>\n",
       "      <td>10.000000</td>\n",
       "      <td>40.000000</td>\n",
       "      <td>1121.945200</td>\n",
       "      <td>326964.852200</td>\n",
       "      <td>NaN</td>\n",
       "      <td>1969.750000</td>\n",
       "      <td>9.750000</td>\n",
       "      <td>23.750000</td>\n",
       "      <td>5.000000</td>\n",
       "    </tr>\n",
       "    <tr>\n",
       "      <td>max</td>\n",
       "      <td>5052.000000</td>\n",
       "      <td>5.000000</td>\n",
       "      <td>2010.000000</td>\n",
       "      <td>12.000000</td>\n",
       "      <td>59.000000</td>\n",
       "      <td>1942.502800</td>\n",
       "      <td>538271.735600</td>\n",
       "      <td>NaN</td>\n",
       "      <td>1986.000000</td>\n",
       "      <td>15.000000</td>\n",
       "      <td>31.000000</td>\n",
       "      <td>5.000000</td>\n",
       "    </tr>\n",
       "  </tbody>\n",
       "</table>\n",
       "</div>"
      ],
      "text/plain": [
       "                ID    Building  Year of sale  Month of sale  Property #  \\\n",
       "count   267.000000  267.000000    195.000000     195.000000  267.000000   \n",
       "mean   2975.142322    2.947566   2006.333333       7.271795   27.580524   \n",
       "std    1392.197474    1.391794      1.072941       3.378674   15.361437   \n",
       "min    1002.000000    1.000000   2004.000000       1.000000    1.000000   \n",
       "25%    2015.500000    2.000000   2006.000000       4.000000   14.500000   \n",
       "50%    3024.000000    3.000000   2007.000000       8.000000   28.000000   \n",
       "75%    4031.500000    4.000000   2007.000000      10.000000   40.000000   \n",
       "max    5052.000000    5.000000   2010.000000      12.000000   59.000000   \n",
       "\n",
       "        Area (ft.)          Price  Unnamed: 10            Y           M  \\\n",
       "count   267.000000     267.000000          0.0   178.000000  178.000000   \n",
       "mean    936.221113  281171.901501          NaN  1960.325843    6.752809   \n",
       "std     284.895016   89119.120849          NaN    12.835575    3.450312   \n",
       "min     410.709200  117564.071600          NaN  1931.000000    1.000000   \n",
       "25%     756.212800  217553.056400          NaN  1950.250000    4.000000   \n",
       "50%     798.284400  249075.656800          NaN  1962.000000    6.000000   \n",
       "75%    1121.945200  326964.852200          NaN  1969.750000    9.750000   \n",
       "max    1942.502800  538271.735600          NaN  1986.000000   15.000000   \n",
       "\n",
       "                D  Deal satisfaction  \n",
       "count  178.000000         195.000000  \n",
       "mean    15.449438           3.605128  \n",
       "std      8.457285           1.363355  \n",
       "min      1.000000           1.000000  \n",
       "25%      8.000000           3.000000  \n",
       "50%     15.000000           4.000000  \n",
       "75%     23.750000           5.000000  \n",
       "max     31.000000           5.000000  "
      ]
     },
     "execution_count": 17,
     "metadata": {},
     "output_type": "execute_result"
    }
   ],
   "source": [
    "df.describe()\n"
   ]
  },
  {
   "cell_type": "code",
   "execution_count": 18,
   "metadata": {},
   "outputs": [
    {
     "data": {
      "text/plain": [
       "249075.6568"
      ]
     },
     "execution_count": 18,
     "metadata": {},
     "output_type": "execute_result"
    }
   ],
   "source": [
    "df[\"Price\"].median()"
   ]
  },
  {
   "cell_type": "code",
   "execution_count": 24,
   "metadata": {},
   "outputs": [
    {
     "data": {
      "text/plain": [
       "<matplotlib.axes._subplots.AxesSubplot at 0x22b268bf908>"
      ]
     },
     "execution_count": 24,
     "metadata": {},
     "output_type": "execute_result"
    },
    {
     "data": {
      "image/png": "[encoded data removed]",
      "text/plain": [
       "<Figure size 432x288 with 1 Axes>"
      ]
     },
     "metadata": {
      "needs_background": "light"
     },
     "output_type": "display_data"
    }
   ],
   "source": [
    "sns.distplot(df[\"Price\"], bins = 267)"
   ]
  },
  {
   "cell_type": "code",
   "execution_count": 27,
   "metadata": {},
   "outputs": [
    {
     "data": {
      "text/plain": [
       "<matplotlib.axes._subplots.AxesSubplot at 0x22b27ad75c8>"
      ]
     },
     "execution_count": 27,
     "metadata": {},
     "output_type": "execute_result"
    },
    {
     "data": {
      "image/png": "[encoded data removed]",
      "text/plain": [
       "<Figure size 432x288 with 1 Axes>"
      ]
     },
     "metadata": {
      "needs_background": "light"
     },
     "output_type": "display_data"
    }
   ],
   "source": [
    "sns.distplot(df[\"Price\"], kde = False)"
   ]
  },
  {
   "cell_type": "code",
   "execution_count": 44,
   "metadata": {},
   "outputs": [],
   "source": [
    "maxP = int(df[\"Price\"].max())"
   ]
  },
  {
   "cell_type": "code",
   "execution_count": 45,
   "metadata": {},
   "outputs": [],
   "source": [
    "minP = int(df[\"Price\"].min())"
   ]
  },
  {
   "cell_type": "code",
   "execution_count": 46,
   "metadata": {},
   "outputs": [
    {
     "data": {
      "text/plain": [
       "538271"
      ]
     },
     "execution_count": 46,
     "metadata": {},
     "output_type": "execute_result"
    }
   ],
   "source": [
    "maxP"
   ]
  },
  {
   "cell_type": "code",
   "execution_count": 47,
   "metadata": {},
   "outputs": [
    {
     "data": {
      "text/plain": [
       "117564"
      ]
     },
     "execution_count": 47,
     "metadata": {},
     "output_type": "execute_result"
    }
   ],
   "source": [
    "minP"
   ]
  },
  {
   "cell_type": "code",
   "execution_count": 61,
   "metadata": {},
   "outputs": [],
   "source": [
    "bins = np.array(range(minP, maxP, 50000))"
   ]
  },
  {
   "cell_type": "code",
   "execution_count": 62,
   "metadata": {},
   "outputs": [],
   "source": [
    "binsize = len(bins)"
   ]
  },
  {
   "cell_type": "code",
   "execution_count": 63,
   "metadata": {},
   "outputs": [
    {
     "data": {
      "text/plain": [
       "<matplotlib.axes._subplots.AxesSubplot at 0x22b4b111bc8>"
      ]
     },
     "execution_count": 63,
     "metadata": {},
     "output_type": "execute_result"
    },
    {
     "data": {
      "image/png": "[encoded data removed]",
      "text/plain": [
       "<Figure size 432x288 with 1 Axes>"
      ]
     },
     "metadata": {
      "needs_background": "light"
     },
     "output_type": "display_data"
    }
   ],
   "source": [
    "sns.distplot(df[\"Price\"], bins = binsize, kde = False)"
   ]
  },
  {
   "cell_type": "code",
   "execution_count": 68,
   "metadata": {},
   "outputs": [
    {
     "data": {
      "text/plain": [
       "<matplotlib.axes._subplots.AxesSubplot at 0x22b51f50948>"
      ]
     },
     "execution_count": 68,
     "metadata": {},
     "output_type": "execute_result"
    },
    {
     "data": {
      "image/png": "[encoded data removed]",
      "text/plain": [
       "<Figure size 432x288 with 1 Axes>"
      ]
     },
     "metadata": {
      "needs_background": "light"
     },
     "output_type": "display_data"
    }
   ],
   "source": [
    "sns.scatterplot(df.Price, df[\"Area (ft.)\"], hue = df.Price, palette = \"viridis\")"
   ]
  },
  {
   "cell_type": "code",
   "execution_count": 82,
   "metadata": {},
   "outputs": [
    {
     "data": {
      "text/html": [
       "<div>\n",
       "<style scoped>\n",
       "    .dataframe tbody tr th:only-of-type {\n",
       "        vertical-align: middle;\n",
       "    }\n",
       "\n",
       "    .dataframe tbody tr th {\n",
       "        vertical-align: top;\n",
       "    }\n",
       "\n",
       "    .dataframe thead th {\n",
       "        text-align: right;\n",
       "    }\n",
       "</style>\n",
       "<table border=\"1\" class=\"dataframe\">\n",
       "  <thead>\n",
       "    <tr style=\"text-align: right;\">\n",
       "      <th></th>\n",
       "      <th>ID</th>\n",
       "      <th>Building</th>\n",
       "      <th>Year of sale</th>\n",
       "      <th>Month of sale</th>\n",
       "      <th>Property #</th>\n",
       "      <th>Area (ft.)</th>\n",
       "      <th>Price</th>\n",
       "      <th>Unnamed: 10</th>\n",
       "      <th>Y</th>\n",
       "      <th>M</th>\n",
       "      <th>D</th>\n",
       "      <th>Deal satisfaction</th>\n",
       "    </tr>\n",
       "  </thead>\n",
       "  <tbody>\n",
       "    <tr>\n",
       "      <td>ID</td>\n",
       "      <td>1.000000</td>\n",
       "      <td>0.999939</td>\n",
       "      <td>0.728397</td>\n",
       "      <td>0.166359</td>\n",
       "      <td>0.031451</td>\n",
       "      <td>0.001286</td>\n",
       "      <td>0.003574</td>\n",
       "      <td>NaN</td>\n",
       "      <td>-0.054818</td>\n",
       "      <td>0.045796</td>\n",
       "      <td>-0.098993</td>\n",
       "      <td>0.027537</td>\n",
       "    </tr>\n",
       "    <tr>\n",
       "      <td>Building</td>\n",
       "      <td>0.999939</td>\n",
       "      <td>1.000000</td>\n",
       "      <td>0.727657</td>\n",
       "      <td>0.166992</td>\n",
       "      <td>0.020420</td>\n",
       "      <td>-0.001998</td>\n",
       "      <td>0.000487</td>\n",
       "      <td>NaN</td>\n",
       "      <td>-0.056278</td>\n",
       "      <td>0.045868</td>\n",
       "      <td>-0.099461</td>\n",
       "      <td>0.028691</td>\n",
       "    </tr>\n",
       "    <tr>\n",
       "      <td>Year of sale</td>\n",
       "      <td>0.728397</td>\n",
       "      <td>0.727657</td>\n",
       "      <td>1.000000</td>\n",
       "      <td>-0.111858</td>\n",
       "      <td>0.119424</td>\n",
       "      <td>-0.020719</td>\n",
       "      <td>-0.012964</td>\n",
       "      <td>NaN</td>\n",
       "      <td>0.032760</td>\n",
       "      <td>0.070546</td>\n",
       "      <td>-0.107199</td>\n",
       "      <td>0.034064</td>\n",
       "    </tr>\n",
       "    <tr>\n",
       "      <td>Month of sale</td>\n",
       "      <td>0.166359</td>\n",
       "      <td>0.166992</td>\n",
       "      <td>-0.111858</td>\n",
       "      <td>1.000000</td>\n",
       "      <td>-0.039440</td>\n",
       "      <td>-0.041617</td>\n",
       "      <td>-0.031861</td>\n",
       "      <td>NaN</td>\n",
       "      <td>-0.012078</td>\n",
       "      <td>0.111113</td>\n",
       "      <td>-0.047795</td>\n",
       "      <td>0.029015</td>\n",
       "    </tr>\n",
       "    <tr>\n",
       "      <td>Property #</td>\n",
       "      <td>0.031451</td>\n",
       "      <td>0.020420</td>\n",
       "      <td>0.119424</td>\n",
       "      <td>-0.039440</td>\n",
       "      <td>1.000000</td>\n",
       "      <td>0.297503</td>\n",
       "      <td>0.279711</td>\n",
       "      <td>NaN</td>\n",
       "      <td>0.118740</td>\n",
       "      <td>-0.005132</td>\n",
       "      <td>0.036830</td>\n",
       "      <td>-0.094510</td>\n",
       "    </tr>\n",
       "    <tr>\n",
       "      <td>Area (ft.)</td>\n",
       "      <td>0.001286</td>\n",
       "      <td>-0.001998</td>\n",
       "      <td>-0.020719</td>\n",
       "      <td>-0.041617</td>\n",
       "      <td>0.297503</td>\n",
       "      <td>1.000000</td>\n",
       "      <td>0.951087</td>\n",
       "      <td>NaN</td>\n",
       "      <td>0.173355</td>\n",
       "      <td>0.029113</td>\n",
       "      <td>0.068056</td>\n",
       "      <td>0.056585</td>\n",
       "    </tr>\n",
       "    <tr>\n",
       "      <td>Price</td>\n",
       "      <td>0.003574</td>\n",
       "      <td>0.000487</td>\n",
       "      <td>-0.012964</td>\n",
       "      <td>-0.031861</td>\n",
       "      <td>0.279711</td>\n",
       "      <td>0.951087</td>\n",
       "      <td>1.000000</td>\n",
       "      <td>NaN</td>\n",
       "      <td>0.168876</td>\n",
       "      <td>0.029202</td>\n",
       "      <td>0.018775</td>\n",
       "      <td>0.024181</td>\n",
       "    </tr>\n",
       "    <tr>\n",
       "      <td>Unnamed: 10</td>\n",
       "      <td>NaN</td>\n",
       "      <td>NaN</td>\n",
       "      <td>NaN</td>\n",
       "      <td>NaN</td>\n",
       "      <td>NaN</td>\n",
       "      <td>NaN</td>\n",
       "      <td>NaN</td>\n",
       "      <td>NaN</td>\n",
       "      <td>NaN</td>\n",
       "      <td>NaN</td>\n",
       "      <td>NaN</td>\n",
       "      <td>NaN</td>\n",
       "    </tr>\n",
       "    <tr>\n",
       "      <td>Y</td>\n",
       "      <td>-0.054818</td>\n",
       "      <td>-0.056278</td>\n",
       "      <td>0.032760</td>\n",
       "      <td>-0.012078</td>\n",
       "      <td>0.118740</td>\n",
       "      <td>0.173355</td>\n",
       "      <td>0.168876</td>\n",
       "      <td>NaN</td>\n",
       "      <td>1.000000</td>\n",
       "      <td>0.153639</td>\n",
       "      <td>0.058391</td>\n",
       "      <td>-0.069680</td>\n",
       "    </tr>\n",
       "    <tr>\n",
       "      <td>M</td>\n",
       "      <td>0.045796</td>\n",
       "      <td>0.045868</td>\n",
       "      <td>0.070546</td>\n",
       "      <td>0.111113</td>\n",
       "      <td>-0.005132</td>\n",
       "      <td>0.029113</td>\n",
       "      <td>0.029202</td>\n",
       "      <td>NaN</td>\n",
       "      <td>0.153639</td>\n",
       "      <td>1.000000</td>\n",
       "      <td>-0.007594</td>\n",
       "      <td>0.073623</td>\n",
       "    </tr>\n",
       "    <tr>\n",
       "      <td>D</td>\n",
       "      <td>-0.098993</td>\n",
       "      <td>-0.099461</td>\n",
       "      <td>-0.107199</td>\n",
       "      <td>-0.047795</td>\n",
       "      <td>0.036830</td>\n",
       "      <td>0.068056</td>\n",
       "      <td>0.018775</td>\n",
       "      <td>NaN</td>\n",
       "      <td>0.058391</td>\n",
       "      <td>-0.007594</td>\n",
       "      <td>1.000000</td>\n",
       "      <td>0.037396</td>\n",
       "    </tr>\n",
       "    <tr>\n",
       "      <td>Deal satisfaction</td>\n",
       "      <td>0.027537</td>\n",
       "      <td>0.028691</td>\n",
       "      <td>0.034064</td>\n",
       "      <td>0.029015</td>\n",
       "      <td>-0.094510</td>\n",
       "      <td>0.056585</td>\n",
       "      <td>0.024181</td>\n",
       "      <td>NaN</td>\n",
       "      <td>-0.069680</td>\n",
       "      <td>0.073623</td>\n",
       "      <td>0.037396</td>\n",
       "      <td>1.000000</td>\n",
       "    </tr>\n",
       "  </tbody>\n",
       "</table>\n",
       "</div>"
      ],
      "text/plain": [
       "                         ID  Building  Year of sale  Month of sale  \\\n",
       "ID                 1.000000  0.999939      0.728397       0.166359   \n",
       "Building           0.999939  1.000000      0.727657       0.166992   \n",
       "Year of sale       0.728397  0.727657      1.000000      -0.111858   \n",
       "Month of sale      0.166359  0.166992     -0.111858       1.000000   \n",
       "Property #         0.031451  0.020420      0.119424      -0.039440   \n",
       "Area (ft.)         0.001286 -0.001998     -0.020719      -0.041617   \n",
       "Price              0.003574  0.000487     -0.012964      -0.031861   \n",
       "Unnamed: 10             NaN       NaN           NaN            NaN   \n",
       "Y                 -0.054818 -0.056278      0.032760      -0.012078   \n",
       "M                  0.045796  0.045868      0.070546       0.111113   \n",
       "D                 -0.098993 -0.099461     -0.107199      -0.047795   \n",
       "Deal satisfaction  0.027537  0.028691      0.034064       0.029015   \n",
       "\n",
       "                   Property #  Area (ft.)     Price  Unnamed: 10         Y  \\\n",
       "ID                   0.031451    0.001286  0.003574          NaN -0.054818   \n",
       "Building             0.020420   -0.001998  0.000487          NaN -0.056278   \n",
       "Year of sale         0.119424   -0.020719 -0.012964          NaN  0.032760   \n",
       "Month of sale       -0.039440   -0.041617 -0.031861          NaN -0.012078   \n",
       "Property #           1.000000    0.297503  0.279711          NaN  0.118740   \n",
       "Area (ft.)           0.297503    1.000000  0.951087          NaN  0.173355   \n",
       "Price                0.279711    0.951087  1.000000          NaN  0.168876   \n",
       "Unnamed: 10               NaN         NaN       NaN          NaN       NaN   \n",
       "Y                    0.118740    0.173355  0.168876          NaN  1.000000   \n",
       "M                   -0.005132    0.029113  0.029202          NaN  0.153639   \n",
       "D                    0.036830    0.068056  0.018775          NaN  0.058391   \n",
       "Deal satisfaction   -0.094510    0.056585  0.024181          NaN -0.069680   \n",
       "\n",
       "                          M         D  Deal satisfaction  \n",
       "ID                 0.045796 -0.098993           0.027537  \n",
       "Building           0.045868 -0.099461           0.028691  \n",
       "Year of sale       0.070546 -0.107199           0.034064  \n",
       "Month of sale      0.111113 -0.047795           0.029015  \n",
       "Property #        -0.005132  0.036830          -0.094510  \n",
       "Area (ft.)         0.029113  0.068056           0.056585  \n",
       "Price              0.029202  0.018775           0.024181  \n",
       "Unnamed: 10             NaN       NaN                NaN  \n",
       "Y                  0.153639  0.058391          -0.069680  \n",
       "M                  1.000000 -0.007594           0.073623  \n",
       "D                 -0.007594  1.000000           0.037396  \n",
       "Deal satisfaction  0.073623  0.037396           1.000000  "
      ]
     },
     "execution_count": 82,
     "metadata": {},
     "output_type": "execute_result"
    }
   ],
   "source": [
    "df.corr()\n"
   ]
  },
  {
   "cell_type": "code",
   "execution_count": 69,
   "metadata": {},
   "outputs": [
    {
     "data": {
      "text/html": [
       "<div>\n",
       "<style scoped>\n",
       "    .dataframe tbody tr th:only-of-type {\n",
       "        vertical-align: middle;\n",
       "    }\n",
       "\n",
       "    .dataframe tbody tr th {\n",
       "        vertical-align: top;\n",
       "    }\n",
       "\n",
       "    .dataframe thead th {\n",
       "        text-align: right;\n",
       "    }\n",
       "</style>\n",
       "<table border=\"1\" class=\"dataframe\">\n",
       "  <thead>\n",
       "    <tr style=\"text-align: right;\">\n",
       "      <th></th>\n",
       "      <th>ID</th>\n",
       "      <th>Building</th>\n",
       "      <th>Year of sale</th>\n",
       "      <th>Month of sale</th>\n",
       "      <th>Type of property</th>\n",
       "      <th>Property #</th>\n",
       "      <th>Area (ft.)</th>\n",
       "      <th>Price</th>\n",
       "      <th>Status</th>\n",
       "      <th>Unnamed: 10</th>\n",
       "      <th>...</th>\n",
       "      <th>Y</th>\n",
       "      <th>M</th>\n",
       "      <th>D</th>\n",
       "      <th>Gender</th>\n",
       "      <th>Country</th>\n",
       "      <th>State</th>\n",
       "      <th>Purpose</th>\n",
       "      <th>Deal satisfaction</th>\n",
       "      <th>Mortgage</th>\n",
       "      <th>Source</th>\n",
       "    </tr>\n",
       "  </thead>\n",
       "  <tbody>\n",
       "    <tr>\n",
       "      <td>0</td>\n",
       "      <td>1030</td>\n",
       "      <td>1</td>\n",
       "      <td>2005.0</td>\n",
       "      <td>11.0</td>\n",
       "      <td>Apartment</td>\n",
       "      <td>30</td>\n",
       "      <td>743.0856</td>\n",
       "      <td>246172.6760</td>\n",
       "      <td>Sold</td>\n",
       "      <td>NaN</td>\n",
       "      <td>...</td>\n",
       "      <td>1986.0</td>\n",
       "      <td>6.0</td>\n",
       "      <td>21.0</td>\n",
       "      <td>F</td>\n",
       "      <td>USA</td>\n",
       "      <td>California</td>\n",
       "      <td>Home</td>\n",
       "      <td>5.0</td>\n",
       "      <td>No</td>\n",
       "      <td>Website</td>\n",
       "    </tr>\n",
       "    <tr>\n",
       "      <td>1</td>\n",
       "      <td>1029</td>\n",
       "      <td>1</td>\n",
       "      <td>2005.0</td>\n",
       "      <td>10.0</td>\n",
       "      <td>Apartment</td>\n",
       "      <td>29</td>\n",
       "      <td>756.2128</td>\n",
       "      <td>246331.9040</td>\n",
       "      <td>Sold</td>\n",
       "      <td>NaN</td>\n",
       "      <td>...</td>\n",
       "      <td>1983.0</td>\n",
       "      <td>2.0</td>\n",
       "      <td>24.0</td>\n",
       "      <td>F</td>\n",
       "      <td>USA</td>\n",
       "      <td>California</td>\n",
       "      <td>Home</td>\n",
       "      <td>5.0</td>\n",
       "      <td>No</td>\n",
       "      <td>Website</td>\n",
       "    </tr>\n",
       "    <tr>\n",
       "      <td>2</td>\n",
       "      <td>2002</td>\n",
       "      <td>2</td>\n",
       "      <td>2007.0</td>\n",
       "      <td>7.0</td>\n",
       "      <td>Apartment</td>\n",
       "      <td>2</td>\n",
       "      <td>587.2808</td>\n",
       "      <td>209280.9104</td>\n",
       "      <td>Sold</td>\n",
       "      <td>NaN</td>\n",
       "      <td>...</td>\n",
       "      <td>1985.0</td>\n",
       "      <td>12.0</td>\n",
       "      <td>27.0</td>\n",
       "      <td>M</td>\n",
       "      <td>USA</td>\n",
       "      <td>California</td>\n",
       "      <td>Home</td>\n",
       "      <td>1.0</td>\n",
       "      <td>Yes</td>\n",
       "      <td>Client</td>\n",
       "    </tr>\n",
       "    <tr>\n",
       "      <td>3</td>\n",
       "      <td>2031</td>\n",
       "      <td>2</td>\n",
       "      <td>2007.0</td>\n",
       "      <td>12.0</td>\n",
       "      <td>Apartment</td>\n",
       "      <td>31</td>\n",
       "      <td>1604.7464</td>\n",
       "      <td>452667.0064</td>\n",
       "      <td>Sold</td>\n",
       "      <td>NaN</td>\n",
       "      <td>...</td>\n",
       "      <td>1985.0</td>\n",
       "      <td>12.0</td>\n",
       "      <td>27.0</td>\n",
       "      <td>M</td>\n",
       "      <td>USA</td>\n",
       "      <td>California</td>\n",
       "      <td>Investment</td>\n",
       "      <td>3.0</td>\n",
       "      <td>Yes</td>\n",
       "      <td>Website</td>\n",
       "    </tr>\n",
       "    <tr>\n",
       "      <td>4</td>\n",
       "      <td>1049</td>\n",
       "      <td>1</td>\n",
       "      <td>2004.0</td>\n",
       "      <td>11.0</td>\n",
       "      <td>Apartment</td>\n",
       "      <td>49</td>\n",
       "      <td>1375.4508</td>\n",
       "      <td>467083.3132</td>\n",
       "      <td>Sold</td>\n",
       "      <td>NaN</td>\n",
       "      <td>...</td>\n",
       "      <td>1979.0</td>\n",
       "      <td>5.0</td>\n",
       "      <td>15.0</td>\n",
       "      <td>F</td>\n",
       "      <td>USA</td>\n",
       "      <td>California</td>\n",
       "      <td>Home</td>\n",
       "      <td>4.0</td>\n",
       "      <td>No</td>\n",
       "      <td>Agency</td>\n",
       "    </tr>\n",
       "  </tbody>\n",
       "</table>\n",
       "<p>5 rows × 26 columns</p>\n",
       "</div>"
      ],
      "text/plain": [
       "     ID  Building  Year of sale  Month of sale Type of property  Property #  \\\n",
       "0  1030         1        2005.0           11.0        Apartment          30   \n",
       "1  1029         1        2005.0           10.0        Apartment          29   \n",
       "2  2002         2        2007.0            7.0        Apartment           2   \n",
       "3  2031         2        2007.0           12.0        Apartment          31   \n",
       "4  1049         1        2004.0           11.0        Apartment          49   \n",
       "\n",
       "   Area (ft.)        Price Status  Unnamed: 10  ...       Y     M     D  \\\n",
       "0    743.0856  246172.6760   Sold          NaN  ...  1986.0   6.0  21.0   \n",
       "1    756.2128  246331.9040   Sold          NaN  ...  1983.0   2.0  24.0   \n",
       "2    587.2808  209280.9104   Sold          NaN  ...  1985.0  12.0  27.0   \n",
       "3   1604.7464  452667.0064   Sold          NaN  ...  1985.0  12.0  27.0   \n",
       "4   1375.4508  467083.3132   Sold          NaN  ...  1979.0   5.0  15.0   \n",
       "\n",
       "  Gender Country       State     Purpose  Deal satisfaction  Mortgage   Source  \n",
       "0      F     USA  California        Home                5.0        No  Website  \n",
       "1      F     USA  California        Home                5.0        No  Website  \n",
       "2      M     USA  California        Home                1.0       Yes   Client  \n",
       "3      M     USA  California  Investment                3.0       Yes  Website  \n",
       "4      F     USA  California        Home                4.0        No   Agency  \n",
       "\n",
       "[5 rows x 26 columns]"
      ]
     },
     "execution_count": 69,
     "metadata": {},
     "output_type": "execute_result"
    }
   ],
   "source": [
    "df.head()\n"
   ]
  },
  {
   "cell_type": "code",
   "execution_count": 83,
   "metadata": {},
   "outputs": [
    {
     "data": {
      "text/plain": [
       "<matplotlib.axes._subplots.AxesSubplot at 0x22b52f68648>"
      ]
     },
     "execution_count": 83,
     "metadata": {},
     "output_type": "execute_result"
    },
    {
     "data": {
      "image/png": "[encoded data removed]",
      "text/plain": [
       "<Figure size 432x288 with 1 Axes>"
      ]
     },
     "metadata": {
      "needs_background": "light"
     },
     "output_type": "display_data"
    }
   ],
   "source": [
    "sns.countplot(df[df.Status == \"Sold\"][\"Country\"])"
   ]
  },
  {
   "cell_type": "code",
   "execution_count": 97,
   "metadata": {},
   "outputs": [
    {
     "data": {
      "text/html": [
       "<div>\n",
       "<style scoped>\n",
       "    .dataframe tbody tr th:only-of-type {\n",
       "        vertical-align: middle;\n",
       "    }\n",
       "\n",
       "    .dataframe tbody tr th {\n",
       "        vertical-align: top;\n",
       "    }\n",
       "\n",
       "    .dataframe thead th {\n",
       "        text-align: right;\n",
       "    }\n",
       "</style>\n",
       "<table border=\"1\" class=\"dataframe\">\n",
       "  <thead>\n",
       "    <tr style=\"text-align: right;\">\n",
       "      <th></th>\n",
       "      <th>State</th>\n",
       "      <th>Price</th>\n",
       "    </tr>\n",
       "  </thead>\n",
       "  <tbody>\n",
       "    <tr>\n",
       "      <td>0</td>\n",
       "      <td>California</td>\n",
       "      <td>246172.6760</td>\n",
       "    </tr>\n",
       "    <tr>\n",
       "      <td>1</td>\n",
       "      <td>California</td>\n",
       "      <td>246331.9040</td>\n",
       "    </tr>\n",
       "    <tr>\n",
       "      <td>2</td>\n",
       "      <td>California</td>\n",
       "      <td>209280.9104</td>\n",
       "    </tr>\n",
       "    <tr>\n",
       "      <td>3</td>\n",
       "      <td>California</td>\n",
       "      <td>452667.0064</td>\n",
       "    </tr>\n",
       "    <tr>\n",
       "      <td>4</td>\n",
       "      <td>California</td>\n",
       "      <td>467083.3132</td>\n",
       "    </tr>\n",
       "    <tr>\n",
       "      <td>...</td>\n",
       "      <td>...</td>\n",
       "      <td>...</td>\n",
       "    </tr>\n",
       "    <tr>\n",
       "      <td>191</td>\n",
       "      <td>California</td>\n",
       "      <td>210745.1664</td>\n",
       "    </tr>\n",
       "    <tr>\n",
       "      <td>192</td>\n",
       "      <td>California</td>\n",
       "      <td>331154.8784</td>\n",
       "    </tr>\n",
       "    <tr>\n",
       "      <td>193</td>\n",
       "      <td>California</td>\n",
       "      <td>204434.6784</td>\n",
       "    </tr>\n",
       "    <tr>\n",
       "      <td>194</td>\n",
       "      <td>California</td>\n",
       "      <td>189194.3072</td>\n",
       "    </tr>\n",
       "    <tr>\n",
       "      <td>195</td>\n",
       "      <td>California</td>\n",
       "      <td>204027.0912</td>\n",
       "    </tr>\n",
       "  </tbody>\n",
       "</table>\n",
       "<p>195 rows × 2 columns</p>\n",
       "</div>"
      ],
      "text/plain": [
       "          State        Price\n",
       "0    California  246172.6760\n",
       "1    California  246331.9040\n",
       "2    California  209280.9104\n",
       "3    California  452667.0064\n",
       "4    California  467083.3132\n",
       "..          ...          ...\n",
       "191  California  210745.1664\n",
       "192  California  331154.8784\n",
       "193  California  204434.6784\n",
       "194  California  189194.3072\n",
       "195  California  204027.0912\n",
       "\n",
       "[195 rows x 2 columns]"
      ]
     },
     "execution_count": 97,
     "metadata": {},
     "output_type": "execute_result"
    }
   ],
   "source": [
    "df[df.Status==\"Sold\"][[\"State\", \"Price\"]]"
   ]
  },
  {
   "cell_type": "code",
   "execution_count": null,
   "metadata": {},
   "outputs": [],
   "source": []
  },
  {
   "cell_type": "code",
   "execution_count": 74,
   "metadata": {},
   "outputs": [
    {
     "data": {
      "text/plain": [
       "count       267.000000\n",
       "mean     281171.901501\n",
       "std       89119.120849\n",
       "min      117564.071600\n",
       "25%      217553.056400\n",
       "50%      249075.656800\n",
       "75%      326964.852200\n",
       "max      538271.735600\n",
       "Name: Price, dtype: float64"
      ]
     },
     "execution_count": 74,
     "metadata": {},
     "output_type": "execute_result"
    }
   ],
   "source": [
    "df.Price.describe()\n"
   ]
  },
  {
   "cell_type": "code",
   "execution_count": 78,
   "metadata": {},
   "outputs": [
    {
     "data": {
      "text/plain": [
       "1.0960149435317839"
      ]
     },
     "execution_count": 78,
     "metadata": {},
     "output_type": "execute_result"
    }
   ],
   "source": [
    "df.Price.skew()\n"
   ]
  },
  {
   "cell_type": "code",
   "execution_count": 77,
   "metadata": {},
   "outputs": [
    {
     "data": {
      "text/plain": [
       "249075.6568"
      ]
     },
     "execution_count": 77,
     "metadata": {},
     "output_type": "execute_result"
    }
   ],
   "source": [
    "df.Price.median()"
   ]
  },
  {
   "cell_type": "code",
   "execution_count": 79,
   "metadata": {},
   "outputs": [
    {
     "data": {
      "text/plain": [
       "0.316955998708742"
      ]
     },
     "execution_count": 79,
     "metadata": {},
     "output_type": "execute_result"
    }
   ],
   "source": [
    "df.Price.std()/df.Price.mean()"
   ]
  },
  {
   "cell_type": "code",
   "execution_count": 101,
   "metadata": {},
   "outputs": [
    {
     "data": {
      "text/plain": [
       "<matplotlib.axes._subplots.AxesSubplot at 0x22b53e32448>"
      ]
     },
     "execution_count": 101,
     "metadata": {},
     "output_type": "execute_result"
    },
    {
     "data": {
      "image/png": "[encoded data removed]",
      "text/plain": [
       "<Figure size 432x288 with 1 Axes>"
      ]
     },
     "metadata": {
      "needs_background": "light"
     },
     "output_type": "display_data"
    }
   ],
   "source": [
    "sns.scatterplot(df.Price,df[\"Area (ft.)\"], hue = df.State)"
   ]
  },
  {
   "cell_type": "code",
   "execution_count": null,
   "metadata": {},
   "outputs": [],
   "source": []
  }
 ],
 "metadata": {
  "kernelspec": {
   "display_name": "Python 3",
   "language": "python",
   "name": "python3"
  },
  "language_info": {
   "codemirror_mode": {
    "name": "ipython",
    "version": 3
   },
   "file_extension": ".py",
   "mimetype": "text/x-python",
   "name": "python",
   "nbconvert_exporter": "python",
   "pygments_lexer": "ipython3",
   "version": "3.7.4"
  }
 },
 "nbformat": 4,
 "nbformat_minor": 2
}
